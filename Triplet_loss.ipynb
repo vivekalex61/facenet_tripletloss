{
  "nbformat": 4,
  "nbformat_minor": 0,
  "metadata": {
    "kernelspec": {
      "display_name": "Python 2",
      "language": "python",
      "name": "python2"
    },
    "language_info": {
      "codemirror_mode": {
        "name": "ipython",
        "version": 2
      },
      "file_extension": ".py",
      "mimetype": "text/x-python",
      "name": "python",
      "nbconvert_exporter": "python",
      "pygments_lexer": "ipython2",
      "version": "2.7.12"
    },
    "colab": {
      "name": "Triplet_loss_KERAS_semi_hard_from_TF.ipynb",
      "provenance": [],
      "collapsed_sections": [],
      "toc_visible": true
    }
  },
  "cells": [
    {
      "cell_type": "markdown",
      "metadata": {
        "id": "7tYh02FGP-As",
        "colab_type": "text"
      },
      "source": [
        "# Keras-Triplet-loss-MNIST\n",
        "Train a Keras model using the semi-hard Triplet Loss (tensorflow) function on MNIST dataset\n",
        "\n",
        "**Disclaimer**: This script is based on the example of Siamese network provided by **Keras-team** found [here](https://github.com/keras-team/keras/blob/master/examples/mnist_siamese.py).\n",
        "\n",
        "## Resources\n",
        "* Keras 2.1.6\n",
        "* Tensorflow 1.8.0\n",
        "\n",
        "## Triplet Loss explained:\n",
        "\n",
        "![alt text](naive_implementation/triplet_loss_viz.png \"Logo Title Text 1\")\n",
        "\n",
        "Figures taken from paper introducing Facenet(1). **Figure 2** represents the general idea of encoding images into a series of numbers much smaller than the image's size.\n",
        "\n",
        "**Figure 3** presents the manner of training the network to differentiate between intra-class and inter-class cases. By pairing the images into triplet pairs of *Anchor-Positive* and *Anchor-Negative*, the network learns the distribution of images from each class with respect to all other classes.\n",
        "\n",
        "\n",
        "Let's import some necessary functions"
      ]
    },
    {
      "cell_type": "code",
      "metadata": {
        "id": "ZZMeD_hyP-A2",
        "colab_type": "code",
        "colab": {
          "base_uri": "https://localhost:8080/",
          "height": 159
        },
        "outputId": "6f9ade4a-0756-4333-8650-a352ff46218d"
      },
      "source": [
        "## dataset\n",
        "from keras.datasets import mnist\n",
        "\n",
        "## for Model definition/training\n",
        "from keras.models import Model, load_model\n",
        "from keras.layers import Input, Flatten, Dense, concatenate,  Dropout\n",
        "from keras.optimizers import Adam\n",
        "\n",
        "from keras.utils import plot_model\n",
        "from keras.callbacks import ModelCheckpoint\n",
        "\n",
        "## required for semi-hard triplet loss:\n",
        "from tensorflow.python.ops import array_ops\n",
        "from tensorflow.python.ops import math_ops\n",
        "from tensorflow.python.framework import dtypes\n",
        "import tensorflow as tf\n",
        "\n",
        "## for visualizing \n",
        "import matplotlib.pyplot as plt, numpy as np\n",
        "from sklearn.decomposition import PCA\n",
        "import h5py\n",
        "import os\n",
        "from google.colab import drive\n",
        "drive.mount('/content/drive/')\n",
        "\n",
        "\n",
        "print(os.getcwd())"
      ],
      "execution_count": 1,
      "outputs": [
        {
          "output_type": "stream",
          "text": [
            "Using TensorFlow backend.\n"
          ],
          "name": "stderr"
        },
        {
          "output_type": "stream",
          "text": [
            "Go to this URL in a browser: https://accounts.google.com/o/oauth2/auth?client_id=947318989803-6bn6qk8qdgf4n4g3pfee6491hc0brc4i.apps.googleusercontent.com&redirect_uri=urn%3aietf%3awg%3aoauth%3a2.0%3aoob&response_type=code&scope=email%20https%3a%2f%2fwww.googleapis.com%2fauth%2fdocs.test%20https%3a%2f%2fwww.googleapis.com%2fauth%2fdrive%20https%3a%2f%2fwww.googleapis.com%2fauth%2fdrive.photos.readonly%20https%3a%2f%2fwww.googleapis.com%2fauth%2fpeopleapi.readonly\n",
            "\n",
            "Enter your authorization code:\n",
            "··········\n",
            "Mounted at /content/drive/\n",
            "/content\n"
          ],
          "name": "stdout"
        }
      ]
    },
    {
      "cell_type": "code",
      "metadata": {
        "id": "hnb140lLStpc",
        "colab_type": "code",
        "colab": {}
      },
      "source": [
        "data=np.load(\"/content/drive/My Drive/Colab Notebooks/olivetti_faces.npy\")\n",
        "target=np.load(\"/content/drive/My Drive/Colab Notebooks/olivetti_faces_target.npy\")"
      ],
      "execution_count": 288,
      "outputs": []
    },
    {
      "cell_type": "code",
      "metadata": {
        "id": "biA9vmQcnuEl",
        "colab_type": "code",
        "colab": {
          "base_uri": "https://localhost:8080/",
          "height": 191
        },
        "outputId": "cf7baae3-5a9a-4921-fb5e-1797ee2e0b6a"
      },
      "source": [
        "data=np.load(\"/content/drive/My Drive/Colab Notebooks/olivetti_faces.npy\")\n",
        "new_data=data\n",
        "new_target=target\n",
        "#adding extra datas\n",
        "from matplotlib.image import imread\n",
        "vivek_image=\"/content/drive/My Drive/Colab Notebooks/vivek\"\n",
        "for image in os.listdir(vivek_image):\n",
        "   print(str(image))\n",
        "   img = imread('/content/drive/My Drive/Colab Notebooks/vivek/'+str(image)).astype('float32')*1/255\n",
        "   np.reshape(img,(1,64, 64))\n",
        "   new_data=np.append(new_data,img)\n",
        "new_data=np.reshape(new_data, (410,64, 64))\n",
        "for n in range(10):\n",
        "\n",
        "     new_target=np.append(new_target,41)\n"
      ],
      "execution_count": 289,
      "outputs": [
        {
          "output_type": "stream",
          "text": [
            "vivek4.jpg\n",
            "vivek1.jpg\n",
            "vivek6.jpg\n",
            "vivek2.jpg\n",
            "vivek7.jpg\n",
            "vivek9.jpg\n",
            "vivek5.jpg\n",
            "vivek8.jpg\n",
            "vivek3.jpg\n",
            "vivek0.jpg\n"
          ],
          "name": "stdout"
        }
      ]
    },
    {
      "cell_type": "code",
      "metadata": {
        "id": "Z4-8usdQzFqb",
        "colab_type": "code",
        "colab": {
          "base_uri": "https://localhost:8080/",
          "height": 286
        },
        "outputId": "92a5dbbd-8982-4760-db0a-cfe37ce1cb9d"
      },
      "source": [
        "import cv2\n",
        "face_cascade = cv2.CascadeClassifier('/content/drive/My Drive/Colab Notebooks/haarcascade_frontalface_default.xml') \n",
        "#gray = cv2.cvtColor(img, cv2.COLOR_BGR2GRAY) \n",
        "  \n",
        "    # Detects faces of different sizes in the input image \n",
        "   \n",
        "img = imread('/content/drive/My Drive/Colab Notebooks/vivek/vivek1.jpg')\n",
        "#.astype('uint8')\n",
        "\n",
        "\n",
        "faces = face_cascade.detectMultiScale(img, 1.3, 5, 0) \n",
        "print(faces) \n",
        "for (x,y,w,h) in faces: \n",
        "        # To draw a rectangle in a face  \n",
        "        #cv2.rectangle(img,(x,y),(x+w,y+h),(255,255,0),2)  \n",
        "        plt.imshow(img[y:y+h, x:x+w],cmap='gray')\n",
        "\n"
      ],
      "execution_count": 290,
      "outputs": [
        {
          "output_type": "stream",
          "text": [
            "[[ 9  5 53 53]]\n"
          ],
          "name": "stdout"
        },
        {
          "output_type": "display_data",
          "data": {
            "image/png": "[encoded data removed]",
            "text/plain": [
              "<Figure size 432x288 with 1 Axes>"
            ]
          },
          "metadata": {
            "tags": [],
            "needs_background": "light"
          }
        }
      ]
    },
    {
      "cell_type": "code",
      "metadata": {
        "id": "Q8BSNyCXV9s-",
        "colab_type": "code",
        "colab": {
          "base_uri": "https://localhost:8080/",
          "height": 34
        },
        "outputId": "b43944bc-5977-4092-d8af-ce867e35d161"
      },
      "source": [
        "X=new_data.reshape(new_data.shape[0],64,64,1)\n",
        "new_target.shape"
      ],
      "execution_count": 291,
      "outputs": [
        {
          "output_type": "execute_result",
          "data": {
            "text/plain": [
              "(410,)"
            ]
          },
          "metadata": {
            "tags": []
          },
          "execution_count": 291
        }
      ]
    },
    {
      "cell_type": "code",
      "metadata": {
        "id": "LA4RXIhkJ66X",
        "colab_type": "code",
        "colab": {
          "base_uri": "https://localhost:8080/",
          "height": 286
        },
        "outputId": "5784f606-899c-490b-aa6e-46dc297e0fef"
      },
      "source": [
        "plt.imshow(new_data[240],cmap='gray')\n",
        "new_target[240]"
      ],
      "execution_count": 276,
      "outputs": [
        {
          "output_type": "execute_result",
          "data": {
            "text/plain": [
              "24"
            ]
          },
          "metadata": {
            "tags": []
          },
          "execution_count": 276
        },
        {
          "output_type": "display_data",
          "data": {
            "image/png": "[encoded data removed]",
            "text/plain": [
              "<Figure size 432x288 with 1 Axes>"
            ]
          },
          "metadata": {
            "tags": [],
            "needs_background": "light"
          }
        }
      ]
    },
    {
      "cell_type": "code",
      "metadata": {
        "id": "6Shsq1tgs38W",
        "colab_type": "code",
        "colab": {
          "base_uri": "https://localhost:8080/",
          "height": 34
        },
        "outputId": "b0a52e31-a3ae-4cc9-f1df-3de4a5a4c991"
      },
      "source": [
        "from sklearn.model_selection import train_test_split\n",
        "\n",
        "x_train,x_test,y_train,y_test=train_test_split(X,new_target,test_size=.2)\n",
        "print(x_train.shape)"
      ],
      "execution_count": 292,
      "outputs": [
        {
          "output_type": "stream",
          "text": [
            "(328, 64, 64, 1)\n"
          ],
          "name": "stdout"
        }
      ]
    },
    {
      "cell_type": "markdown",
      "metadata": {
        "collapsed": true,
        "id": "wBIkRvtIP-Bp",
        "colab_type": "text"
      },
      "source": [
        "### include the necessary functions for triplet loss:\n",
        "** (from TF libraries) **"
      ]
    },
    {
      "cell_type": "code",
      "metadata": {
        "id": "cXejbDZ_P-B3",
        "colab_type": "code",
        "colab": {}
      },
      "source": [
        "def pairwise_distance(feature, squared=False):\n",
        "    \"\"\"Computes the pairwise distance matrix with numerical stability.\n",
        "\n",
        "    output[i, j] = || feature[i, :] - feature[j, :] ||_2\n",
        "\n",
        "    Args:\n",
        "      feature: 2-D Tensor of size [number of data, feature dimension].\n",
        "      squared: Boolean, whether or not to square the pairwise distances.\n",
        "\n",
        "    Returns:\n",
        "      pairwise_distances: 2-D Tensor of size [number of data, number of data].\n",
        "    \"\"\"\n",
        "    pairwise_distances_squared = math_ops.add(\n",
        "        math_ops.reduce_sum(math_ops.square(feature), axis=[1], keepdims=True),\n",
        "        math_ops.reduce_sum(\n",
        "            math_ops.square(array_ops.transpose(feature)),\n",
        "            axis=[0],\n",
        "            keepdims=True)) - 2.0 * math_ops.matmul(feature,\n",
        "                                                    array_ops.transpose(feature))\n",
        "\n",
        "    # Deal with numerical inaccuracies. Set small negatives to zero.\n",
        "    pairwise_distances_squared = math_ops.maximum(pairwise_distances_squared, 0.0)\n",
        "    # Get the mask where the zero distances are at.\n",
        "    error_mask = math_ops.less_equal(pairwise_distances_squared, 0.0)\n",
        "\n",
        "    # Optionally take the sqrt.\n",
        "    if squared:\n",
        "        pairwise_distances = pairwise_distances_squared\n",
        "    else:\n",
        "        pairwise_distances = math_ops.sqrt(\n",
        "            pairwise_distances_squared + math_ops.to_float(error_mask) * 1e-16)\n",
        "\n",
        "    # Undo conditionally adding 1e-16.\n",
        "    pairwise_distances = math_ops.multiply(\n",
        "        pairwise_distances, math_ops.to_float(math_ops.logical_not(error_mask)))\n",
        "\n",
        "    num_data = array_ops.shape(feature)[0]\n",
        "    # Explicitly set diagonals to zero.\n",
        "    mask_offdiagonals = array_ops.ones_like(pairwise_distances) - array_ops.diag(\n",
        "        array_ops.ones([num_data]))\n",
        "    pairwise_distances = math_ops.multiply(pairwise_distances, mask_offdiagonals)\n",
        "    return pairwise_distances\n",
        "\n",
        "def masked_maximum(data, mask, dim=1):\n",
        "    \"\"\"Computes the axis wise maximum over chosen elements.\n",
        "\n",
        "    Args:\n",
        "      data: 2-D float `Tensor` of size [n, m].\n",
        "      mask: 2-D Boolean `Tensor` of size [n, m].\n",
        "      dim: The dimension over which to compute the maximum.\n",
        "\n",
        "    Returns:\n",
        "      masked_maximums: N-D `Tensor`.\n",
        "        The maximized dimension is of size 1 after the operation.\n",
        "    \"\"\"\n",
        "    axis_minimums = math_ops.reduce_min(data, dim, keepdims=True)\n",
        "    masked_maximums = math_ops.reduce_max(\n",
        "        math_ops.multiply(data - axis_minimums, mask), dim,\n",
        "        keepdims=True) + axis_minimums\n",
        "    return masked_maximums\n",
        "\n",
        "def masked_minimum(data, mask, dim=1):\n",
        "    \"\"\"Computes the axis wise minimum over chosen elements.\n",
        "\n",
        "    Args:\n",
        "      data: 2-D float `Tensor` of size [n, m].\n",
        "      mask: 2-D Boolean `Tensor` of size [n, m].\n",
        "      dim: The dimension over which to compute the minimum.\n",
        "\n",
        "    Returns:\n",
        "      masked_minimums: N-D `Tensor`.\n",
        "        The minimized dimension is of size 1 after the operation.\n",
        "    \"\"\"\n",
        "    axis_maximums = math_ops.reduce_max(data, dim, keepdims=True)\n",
        "    masked_minimums = math_ops.reduce_min(\n",
        "        math_ops.multiply(data - axis_maximums, mask), dim,\n",
        "        keepdims=True) + axis_maximums\n",
        "    return masked_minimums"
      ],
      "execution_count": 9,
      "outputs": []
    },
    {
      "cell_type": "markdown",
      "metadata": {
        "id": "PyeUdOUEP-CP",
        "colab_type": "text"
      },
      "source": [
        "## Define our Triplet Loss"
      ]
    },
    {
      "cell_type": "code",
      "metadata": {
        "id": "m4SsavWGP-CX",
        "colab_type": "code",
        "colab": {}
      },
      "source": [
        "def triplet_loss_adapted_from_tf(y_true, y_pred):\n",
        "    del y_true\n",
        "    margin = 1.\n",
        "    labels = y_pred[:, :1]\n",
        "\n",
        " \n",
        "    labels = tf.cast(labels, dtype='int32')\n",
        "\n",
        "    embeddings = y_pred[:, 1:]\n",
        "\n",
        "    ### Code from Tensorflow function [tf.contrib.losses.metric_learning.triplet_semihard_loss] starts here:\n",
        "    \n",
        "    # Reshape [batch_size] label tensor to a [batch_size, 1] label tensor.\n",
        "    # lshape=array_ops.shape(labels)\n",
        "    # assert lshape.shape == 1\n",
        "    # labels = array_ops.reshape(labels, [lshape[0], 1])\n",
        "\n",
        "    # Build pairwise squared distance matrix.\n",
        "    pdist_matrix = pairwise_distance(embeddings, squared=True)\n",
        "    # Build pairwise binary adjacency matrix.\n",
        "    adjacency = math_ops.equal(labels, array_ops.transpose(labels))\n",
        "    # Invert so we can select negatives only.\n",
        "    adjacency_not = math_ops.logical_not(adjacency)\n",
        "\n",
        "    # global batch_size  \n",
        "    batch_size = array_ops.size(labels) # was 'array_ops.size(labels)'\n",
        "\n",
        "    # Compute the mask.\n",
        "    pdist_matrix_tile = array_ops.tile(pdist_matrix, [batch_size, 1])\n",
        "    mask = math_ops.logical_and(\n",
        "        array_ops.tile(adjacency_not, [batch_size, 1]),\n",
        "        math_ops.greater(\n",
        "            pdist_matrix_tile, array_ops.reshape(\n",
        "                array_ops.transpose(pdist_matrix), [-1, 1])))\n",
        "    mask_final = array_ops.reshape(\n",
        "        math_ops.greater(\n",
        "            math_ops.reduce_sum(\n",
        "                math_ops.cast(mask, dtype=dtypes.float32), 1, keepdims=True),\n",
        "            0.0), [batch_size, batch_size])\n",
        "    mask_final = array_ops.transpose(mask_final)\n",
        "\n",
        "    adjacency_not = math_ops.cast(adjacency_not, dtype=dtypes.float32)\n",
        "    mask = math_ops.cast(mask, dtype=dtypes.float32)\n",
        "\n",
        "    # negatives_outside: smallest D_an where D_an > D_ap.\n",
        "    negatives_outside = array_ops.reshape(\n",
        "        masked_minimum(pdist_matrix_tile, mask), [batch_size, batch_size])\n",
        "    negatives_outside = array_ops.transpose(negatives_outside)\n",
        "\n",
        "    # negatives_inside: largest D_an.\n",
        "    negatives_inside = array_ops.tile(\n",
        "        masked_maximum(pdist_matrix, adjacency_not), [1, batch_size])\n",
        "    semi_hard_negatives = array_ops.where(\n",
        "        mask_final, negatives_outside, negatives_inside)\n",
        "\n",
        "    loss_mat = math_ops.add(margin, pdist_matrix - semi_hard_negatives)\n",
        "\n",
        "    mask_positives = math_ops.cast(\n",
        "        adjacency, dtype=dtypes.float32) - array_ops.diag(\n",
        "        array_ops.ones([batch_size]))\n",
        "\n",
        "    # In lifted-struct, the authors multiply 0.5 for upper triangular\n",
        "    #   in semihard, they take all positive pairs except the diagonal.\n",
        "    num_positives = math_ops.reduce_sum(mask_positives)\n",
        "\n",
        "    semi_hard_triplet_loss_distance = math_ops.truediv(\n",
        "        math_ops.reduce_sum(\n",
        "            math_ops.maximum(\n",
        "                math_ops.multiply(loss_mat, mask_positives), 0.0)),\n",
        "        num_positives,\n",
        "        name='triplet_semihard_loss')\n",
        "    \n",
        "    ### Code from Tensorflow function semi-hard triplet loss ENDS here.\n",
        "    return semi_hard_triplet_loss_distance"
      ],
      "execution_count": 10,
      "outputs": []
    },
    {
      "cell_type": "markdown",
      "metadata": {
        "id": "dIk8JUdVP-Ct",
        "colab_type": "text"
      },
      "source": [
        "### Define our base_model\n",
        "\n",
        "having the structure\n",
        "![alt text](images/base_network.png \"Logo Title Text 1\")"
      ]
    },
    {
      "cell_type": "code",
      "metadata": {
        "id": "FkjttE25P-Cw",
        "colab_type": "code",
        "colab": {}
      },
      "source": [
        "def create_base_network(image_input_shape, embedding_size):\n",
        "    \"\"\"\n",
        "    Base network to be shared (eq. to feature extraction).\n",
        "    \"\"\"\n",
        "    input_image = Input(shape=image_input_shape)\n",
        "\n",
        "    x = Flatten()(input_image)\n",
        "    x = Dense(128, activation='relu')(x)\n",
        "    x = Dropout(0.1)(x)\n",
        "    x = Dense(128, activation='relu')(x)\n",
        "    x = Dropout(0.1)(x)\n",
        "    x = Dense(embedding_size)(x)\n",
        "\n",
        "    base_network = Model(inputs=input_image, outputs=x)\n",
        "    #plot_model(base_network, to_file='base_network.png', show_shapes=True, show_layer_names=True)\n",
        "    return base_network"
      ],
      "execution_count": 11,
      "outputs": []
    },
    {
      "cell_type": "markdown",
      "metadata": {
        "id": "fVlHQBeDP-DD",
        "colab_type": "text"
      },
      "source": [
        "### Loading the training/validation/testing DATA, as well as some other parameters"
      ]
    },
    {
      "cell_type": "code",
      "metadata": {
        "id": "XnAE4oiPP-DI",
        "colab_type": "code",
        "colab": {}
      },
      "source": [
        "if __name__ == \"__main__\":\n",
        "    # in case this scriot is called from another file, let's make sure it doesn't start training the network...\n",
        "\n",
        "    batch_size = 300\n",
        "    epochs = 350\n",
        "    train_flag = True  # either     True or False\n",
        "\n",
        "    embedding_size = 64\n",
        "\n",
        "    no_of_components = 2  # for visualization -> PCA.fit_transform()\n",
        "\n",
        "    step = 10\n",
        "\n",
        "    # The data, split between train and test sets\n",
        "  #  (x_train, y_train), (x_test, y_test) = mnist.load_data()\n",
        "    x_train = x_train.astype('float32')\n",
        "    x_test = x_test.astype('float32')\n",
        "    #x_train /= 255.\n",
        "    #x_test /= 255.\n",
        "    input_image_shape = (64, 64, 1)\n",
        "    x_val = x_test[:20, :, :]\n",
        "    y_val = y_test[:20]"
      ],
      "execution_count": 293,
      "outputs": []
    },
    {
      "cell_type": "code",
      "metadata": {
        "id": "SQm-K7_sRA-e",
        "colab_type": "code",
        "colab": {
          "base_uri": "https://localhost:8080/",
          "height": 34
        },
        "outputId": "07337ffe-7e3d-4bfe-eb85-556f28d1226a"
      },
      "source": [
        ""
      ],
      "execution_count": null,
      "outputs": [
        {
          "output_type": "execute_result",
          "data": {
            "text/plain": [
              "(20, 64, 64, 1)"
            ]
          },
          "metadata": {
            "tags": []
          },
          "execution_count": 49
        }
      ]
    },
    {
      "cell_type": "markdown",
      "metadata": {
        "id": "DPfC7SfvP-Db",
        "colab_type": "text"
      },
      "source": [
        "### Instantiate the base network and define our model\n",
        "\n",
        "We use the base network to define our final architecture:\n",
        "![alt text](images/model.png \"Logo Title Text 1\")\n",
        "\n",
        "### We use an Input layer to pass the label information (concatenated to the embeddings) to the the semi-hard triplet loss function."
      ]
    },
    {
      "cell_type": "code",
      "metadata": {
        "scrolled": true,
        "id": "8N-skOBpP-Dd",
        "colab_type": "code",
        "colab": {
          "base_uri": "https://localhost:8080/",
          "height": 1000
        },
        "outputId": "c487c740-ed9e-47d5-94e9-30c492a48210"
      },
      "source": [
        "    # Network training...\n",
        "    if train_flag == True:\n",
        "        base_network = create_base_network(input_image_shape, embedding_size)\n",
        "        input_images = Input(shape=input_image_shape, name='input_image') # input layer for images\n",
        "        input_labels = Input(shape=(1,), name='input_label')    # input layer for labels\n",
        "        embeddings = base_network([input_images])               # output of network -> embeddings\n",
        "        labels_plus_embeddings = concatenate([input_labels, embeddings])  # concatenating the labels + embeddings\n",
        "\n",
        "        # Defining a model with inputs (images, labels) and outputs (labels_plus_embeddings)\n",
        "        model = Model(inputs=[input_images, input_labels],\n",
        "                      outputs=labels_plus_embeddings)\n",
        "\n",
        "        model.summary()\n",
        "        plot_model(model, to_file='model.png', show_shapes=True, show_layer_names=True)\n",
        "\n",
        "        # train session\n",
        "        opt = Adam(lr=0.0001)  # choose optimiser. RMS is good too!\n",
        "\n",
        "        model.compile(loss=triplet_loss_adapted_from_tf,\n",
        "                      optimizer=opt)\n",
        "\n",
        "        filepath = \"semiH_trip_MNIST_v13_ep{epoch:02d}_BS%d.hdf5\" % batch_size\n",
        "        checkpoint = ModelCheckpoint(filepath, monitor='val_loss', verbose=1, save_best_only=False, period=25)\n",
        "        callbacks_list = [checkpoint]\n",
        "\n",
        "        # Uses 'dummy' embeddings + dummy gt labels. Will be removed as soon as loaded, to free memory\n",
        "        dummy_gt_train = np.zeros((len(X), embedding_size + 1))\n",
        "        dummy_gt_val = np.zeros((len(x_val), embedding_size + 1))\n",
        "\n",
        "        x_train = np.reshape(X, (len(X), X.shape[1], X.shape[1], 1))\n",
        "        x_val = np.reshape(x_val, (len(x_val), X.shape[1], X.shape[1], 1))\n",
        "\n",
        "        H = model.fit(\n",
        "            x=[X,new_target],\n",
        "            y=dummy_gt_train,\n",
        "            batch_size=batch_size,\n",
        "            epochs=epochs,\n",
        "            validation_data=([x_val, y_val], dummy_gt_val),\n",
        "            callbacks=callbacks_list)\n",
        "        \n",
        "        plt.figure(figsize=(8,8))\n",
        "        plt.plot(H.history['loss'], label='training loss')\n",
        "        plt.plot(H.history['val_loss'], label='validation loss')\n",
        "        plt.legend()\n",
        "        plt.title('Train/validation loss')\n",
        "        plt.show()\n",
        "    else:\n",
        "\n",
        "        #####\n",
        "        model = load_model('semiH_trip_MNIST_v13_ep25_BS256.hdf5',\n",
        "                                        custom_objects={'triplet_loss_adapted_from_tf':triplet_loss_adapted_from_tf})"
      ],
      "execution_count": 296,
      "outputs": [
        {
          "output_type": "stream",
          "text": [
            "Model: \"model_19\"\n",
            "__________________________________________________________________________________________________\n",
            "Layer (type)                    Output Shape         Param #     Connected to                     \n",
            "==================================================================================================\n",
            "input_image (InputLayer)        (None, 64, 64, 1)    0                                            \n",
            "__________________________________________________________________________________________________\n",
            "input_label (InputLayer)        (None, 1)            0                                            \n",
            "__________________________________________________________________________________________________\n",
            "model_18 (Model)                (None, 64)           549184      input_image[0][0]                \n",
            "__________________________________________________________________________________________________\n",
            "concatenate_8 (Concatenate)     (None, 65)           0           input_label[0][0]                \n",
            "                                                                 model_18[1][0]                   \n",
            "==================================================================================================\n",
            "Total params: 549,184\n",
            "Trainable params: 549,184\n",
            "Non-trainable params: 0\n",
            "__________________________________________________________________________________________________\n",
            "Train on 410 samples, validate on 20 samples\n",
            "Epoch 1/350\n",
            "410/410 [==============================] - 1s 3ms/step - loss: 0.9520 - val_loss: 0.7306\n",
            "Epoch 2/350\n",
            "410/410 [==============================] - 1s 1ms/step - loss: 0.9407 - val_loss: 0.6794\n",
            "Epoch 3/350\n",
            "410/410 [==============================] - 1s 1ms/step - loss: 0.9369 - val_loss: 0.6456\n",
            "Epoch 4/350\n",
            "410/410 [==============================] - 1s 1ms/step - loss: 0.9314 - val_loss: 0.5331\n",
            "Epoch 5/350\n",
            "410/410 [==============================] - 1s 1ms/step - loss: 0.9332 - val_loss: 0.4773\n",
            "Epoch 6/350\n",
            "410/410 [==============================] - 1s 1ms/step - loss: 0.9360 - val_loss: 0.5651\n",
            "Epoch 7/350\n",
            "410/410 [==============================] - 1s 1ms/step - loss: 0.9385 - val_loss: 0.6927\n",
            "Epoch 8/350\n",
            "410/410 [==============================] - 1s 1ms/step - loss: 0.9594 - val_loss: 0.7054\n",
            "Epoch 9/350\n",
            "410/410 [==============================] - 1s 1ms/step - loss: 0.9591 - val_loss: 0.7027\n",
            "Epoch 10/350\n",
            "410/410 [==============================] - 1s 1ms/step - loss: 0.9635 - val_loss: 0.6952\n",
            "Epoch 11/350\n",
            "410/410 [==============================] - 1s 1ms/step - loss: 0.9607 - val_loss: 0.6799\n",
            "Epoch 12/350\n",
            "410/410 [==============================] - 1s 1ms/step - loss: 0.9595 - val_loss: 0.6945\n",
            "Epoch 13/350\n",
            "410/410 [==============================] - 1s 1ms/step - loss: 0.9577 - val_loss: 0.6914\n",
            "Epoch 14/350\n",
            "410/410 [==============================] - 1s 1ms/step - loss: 0.9590 - val_loss: 0.6669\n",
            "Epoch 15/350\n",
            "410/410 [==============================] - 1s 1ms/step - loss: 0.9544 - val_loss: 0.6605\n",
            "Epoch 16/350\n",
            "410/410 [==============================] - 1s 1ms/step - loss: 0.9564 - val_loss: 0.7374\n",
            "Epoch 17/350\n",
            "410/410 [==============================] - 1s 1ms/step - loss: 0.9519 - val_loss: 0.7547\n",
            "Epoch 18/350\n",
            "410/410 [==============================] - 1s 1ms/step - loss: 0.9556 - val_loss: 0.7383\n",
            "Epoch 19/350\n",
            "410/410 [==============================] - 1s 1ms/step - loss: 0.9506 - val_loss: 0.6355\n",
            "Epoch 20/350\n",
            "410/410 [==============================] - 1s 1ms/step - loss: 0.9516 - val_loss: 0.5573\n",
            "Epoch 21/350\n",
            "410/410 [==============================] - 1s 1ms/step - loss: 0.9497 - val_loss: 0.4997\n",
            "Epoch 22/350\n",
            "410/410 [==============================] - 1s 1ms/step - loss: 0.9474 - val_loss: 0.4771\n",
            "Epoch 23/350\n",
            "410/410 [==============================] - 1s 1ms/step - loss: 0.9365 - val_loss: 0.4665\n",
            "Epoch 24/350\n",
            "410/410 [==============================] - 1s 1ms/step - loss: 0.9313 - val_loss: 0.3436\n",
            "Epoch 25/350\n",
            "410/410 [==============================] - 1s 1ms/step - loss: 0.9325 - val_loss: 0.2881\n",
            "\n",
            "Epoch 00025: saving model to semiH_trip_MNIST_v13_ep25_BS300.hdf5\n",
            "Epoch 26/350\n",
            "410/410 [==============================] - 1s 1ms/step - loss: 0.9292 - val_loss: 0.3506\n",
            "Epoch 27/350\n",
            "410/410 [==============================] - 1s 1ms/step - loss: 0.9279 - val_loss: 0.3643\n",
            "Epoch 28/350\n",
            "410/410 [==============================] - 1s 1ms/step - loss: 0.9267 - val_loss: 0.3309\n",
            "Epoch 29/350\n",
            "410/410 [==============================] - 1s 1ms/step - loss: 0.9339 - val_loss: 0.2887\n",
            "Epoch 30/350\n",
            "410/410 [==============================] - 1s 1ms/step - loss: 0.9102 - val_loss: 0.2689\n",
            "Epoch 31/350\n",
            "410/410 [==============================] - 1s 1ms/step - loss: 0.8899 - val_loss: 0.2686\n",
            "Epoch 32/350\n",
            "410/410 [==============================] - 1s 1ms/step - loss: 0.9027 - val_loss: 0.2393\n",
            "Epoch 33/350\n",
            "410/410 [==============================] - 1s 1ms/step - loss: 0.9029 - val_loss: 0.2774\n",
            "Epoch 34/350\n",
            "410/410 [==============================] - 1s 1ms/step - loss: 0.8826 - val_loss: 0.2548\n",
            "Epoch 35/350\n",
            "410/410 [==============================] - 1s 1ms/step - loss: 0.9069 - val_loss: 0.2803\n",
            "Epoch 36/350\n",
            "410/410 [==============================] - 1s 1ms/step - loss: 0.9129 - val_loss: 0.2928\n",
            "Epoch 37/350\n",
            "410/410 [==============================] - 1s 1ms/step - loss: 0.9197 - val_loss: 0.3258\n",
            "Epoch 38/350\n",
            "410/410 [==============================] - 1s 1ms/step - loss: 0.9021 - val_loss: 0.3171\n",
            "Epoch 39/350\n",
            "410/410 [==============================] - 1s 1ms/step - loss: 0.8899 - val_loss: 0.3013\n",
            "Epoch 40/350\n",
            "410/410 [==============================] - 1s 1ms/step - loss: 0.9016 - val_loss: 0.2714\n",
            "Epoch 41/350\n",
            "410/410 [==============================] - 1s 1ms/step - loss: 0.8848 - val_loss: 0.2959\n",
            "Epoch 42/350\n",
            "410/410 [==============================] - 1s 1ms/step - loss: 0.8910 - val_loss: 0.2935\n",
            "Epoch 43/350\n",
            "410/410 [==============================] - 1s 1ms/step - loss: 0.8825 - val_loss: 0.2863\n",
            "Epoch 44/350\n",
            "410/410 [==============================] - 1s 1ms/step - loss: 0.8603 - val_loss: 0.2068\n",
            "Epoch 45/350\n",
            "410/410 [==============================] - 1s 1ms/step - loss: 0.8625 - val_loss: 0.2110\n",
            "Epoch 46/350\n",
            "410/410 [==============================] - 1s 1ms/step - loss: 0.8734 - val_loss: 0.2210\n",
            "Epoch 47/350\n",
            "410/410 [==============================] - 1s 1ms/step - loss: 0.8479 - val_loss: 0.2243\n",
            "Epoch 48/350\n",
            "410/410 [==============================] - 1s 1ms/step - loss: 0.8580 - val_loss: 0.2357\n",
            "Epoch 49/350\n",
            "410/410 [==============================] - 1s 1ms/step - loss: 0.8580 - val_loss: 0.2168\n",
            "Epoch 50/350\n",
            "410/410 [==============================] - 1s 1ms/step - loss: 0.8597 - val_loss: 0.2226\n",
            "\n",
            "Epoch 00050: saving model to semiH_trip_MNIST_v13_ep50_BS300.hdf5\n",
            "Epoch 51/350\n",
            "410/410 [==============================] - 1s 1ms/step - loss: 0.8537 - val_loss: 0.2343\n",
            "Epoch 52/350\n",
            "410/410 [==============================] - 1s 1ms/step - loss: 0.8508 - val_loss: 0.3138\n",
            "Epoch 53/350\n",
            "410/410 [==============================] - 1s 1ms/step - loss: 0.8380 - val_loss: 0.2583\n",
            "Epoch 54/350\n",
            "410/410 [==============================] - 1s 1ms/step - loss: 0.8422 - val_loss: 0.2406\n",
            "Epoch 55/350\n",
            "410/410 [==============================] - 1s 1ms/step - loss: 0.8588 - val_loss: 0.2800\n",
            "Epoch 56/350\n",
            "410/410 [==============================] - 1s 1ms/step - loss: 0.8173 - val_loss: 0.3018\n",
            "Epoch 57/350\n",
            "410/410 [==============================] - 1s 1ms/step - loss: 0.8386 - val_loss: 0.2256\n",
            "Epoch 58/350\n",
            "410/410 [==============================] - 1s 1ms/step - loss: 0.8173 - val_loss: 0.1830\n",
            "Epoch 59/350\n",
            "410/410 [==============================] - 1s 1ms/step - loss: 0.8121 - val_loss: 0.1810\n",
            "Epoch 60/350\n",
            "410/410 [==============================] - 1s 1ms/step - loss: 0.8185 - val_loss: 0.1805\n",
            "Epoch 61/350\n",
            "410/410 [==============================] - 1s 1ms/step - loss: 0.8031 - val_loss: 0.1828\n",
            "Epoch 62/350\n",
            "410/410 [==============================] - 1s 1ms/step - loss: 0.7994 - val_loss: 0.1879\n",
            "Epoch 63/350\n",
            "410/410 [==============================] - 1s 1ms/step - loss: 0.8065 - val_loss: 0.2221\n",
            "Epoch 64/350\n",
            "410/410 [==============================] - 1s 1ms/step - loss: 0.7662 - val_loss: 0.1788\n",
            "Epoch 65/350\n",
            "410/410 [==============================] - 1s 1ms/step - loss: 0.8053 - val_loss: 0.1525\n",
            "Epoch 66/350\n",
            "410/410 [==============================] - 1s 1ms/step - loss: 0.7874 - val_loss: 0.2028\n",
            "Epoch 67/350\n",
            "410/410 [==============================] - 1s 1ms/step - loss: 0.7720 - val_loss: 0.2277\n",
            "Epoch 68/350\n",
            "410/410 [==============================] - 1s 1ms/step - loss: 0.7477 - val_loss: 0.2028\n",
            "Epoch 69/350\n",
            "410/410 [==============================] - 1s 1ms/step - loss: 0.7683 - val_loss: 0.2127\n",
            "Epoch 70/350\n",
            "410/410 [==============================] - 1s 1ms/step - loss: 0.7645 - val_loss: 0.2350\n",
            "Epoch 71/350\n",
            "410/410 [==============================] - 1s 1ms/step - loss: 0.7439 - val_loss: 0.1571\n",
            "Epoch 72/350\n",
            "410/410 [==============================] - 1s 1ms/step - loss: 0.7503 - val_loss: 0.1484\n",
            "Epoch 73/350\n",
            "410/410 [==============================] - 1s 1ms/step - loss: 0.7376 - val_loss: 0.1941\n",
            "Epoch 74/350\n",
            "410/410 [==============================] - 1s 1ms/step - loss: 0.7159 - val_loss: 0.1223\n",
            "Epoch 75/350\n",
            "410/410 [==============================] - 1s 1ms/step - loss: 0.7099 - val_loss: 0.1188\n",
            "\n",
            "Epoch 00075: saving model to semiH_trip_MNIST_v13_ep75_BS300.hdf5\n",
            "Epoch 76/350\n",
            "410/410 [==============================] - 1s 1ms/step - loss: 0.7237 - val_loss: 0.1720\n",
            "Epoch 77/350\n",
            "410/410 [==============================] - 1s 1ms/step - loss: 0.7309 - val_loss: 0.1934\n",
            "Epoch 78/350\n",
            "410/410 [==============================] - 1s 1ms/step - loss: 0.7046 - val_loss: 0.2020\n",
            "Epoch 79/350\n",
            "410/410 [==============================] - 1s 1ms/step - loss: 0.7122 - val_loss: 0.0961\n",
            "Epoch 80/350\n",
            "410/410 [==============================] - 1s 1ms/step - loss: 0.7118 - val_loss: 0.1312\n",
            "Epoch 81/350\n",
            "410/410 [==============================] - 1s 1ms/step - loss: 0.6918 - val_loss: 0.2301\n",
            "Epoch 82/350\n",
            "410/410 [==============================] - 1s 1ms/step - loss: 0.7197 - val_loss: 0.1583\n",
            "Epoch 83/350\n",
            "410/410 [==============================] - 1s 1ms/step - loss: 0.6757 - val_loss: 0.1146\n",
            "Epoch 84/350\n",
            "410/410 [==============================] - 1s 2ms/step - loss: 0.6957 - val_loss: 0.1107\n",
            "Epoch 85/350\n",
            "410/410 [==============================] - 1s 1ms/step - loss: 0.6765 - val_loss: 0.1146\n",
            "Epoch 86/350\n",
            "410/410 [==============================] - 1s 1ms/step - loss: 0.6557 - val_loss: 0.1168\n",
            "Epoch 87/350\n",
            "410/410 [==============================] - 1s 1ms/step - loss: 0.6565 - val_loss: 0.0796\n",
            "Epoch 88/350\n",
            "410/410 [==============================] - 1s 1ms/step - loss: 0.6220 - val_loss: 0.0700\n",
            "Epoch 89/350\n",
            "410/410 [==============================] - 1s 1ms/step - loss: 0.6199 - val_loss: 0.1144\n",
            "Epoch 90/350\n",
            "410/410 [==============================] - 1s 1ms/step - loss: 0.6619 - val_loss: 0.1595\n",
            "Epoch 91/350\n",
            "410/410 [==============================] - 1s 1ms/step - loss: 0.6380 - val_loss: 0.0434\n",
            "Epoch 92/350\n",
            "410/410 [==============================] - 1s 1ms/step - loss: 0.6367 - val_loss: 0.0532\n",
            "Epoch 93/350\n",
            "410/410 [==============================] - 1s 1ms/step - loss: 0.6403 - val_loss: 0.0817\n",
            "Epoch 94/350\n",
            "410/410 [==============================] - 1s 1ms/step - loss: 0.6053 - val_loss: 0.0401\n",
            "Epoch 95/350\n",
            "410/410 [==============================] - 1s 1ms/step - loss: 0.6121 - val_loss: 0.0540\n",
            "Epoch 96/350\n",
            "410/410 [==============================] - 1s 1ms/step - loss: 0.5833 - val_loss: 0.0628\n",
            "Epoch 97/350\n",
            "410/410 [==============================] - 1s 1ms/step - loss: 0.6140 - val_loss: 0.1165\n",
            "Epoch 98/350\n",
            "410/410 [==============================] - 1s 1ms/step - loss: 0.6277 - val_loss: 0.0867\n",
            "Epoch 99/350\n",
            "410/410 [==============================] - 1s 1ms/step - loss: 0.5784 - val_loss: 0.0646\n",
            "Epoch 100/350\n",
            "410/410 [==============================] - 1s 1ms/step - loss: 0.6019 - val_loss: 0.0350\n",
            "\n",
            "Epoch 00100: saving model to semiH_trip_MNIST_v13_ep100_BS300.hdf5\n",
            "Epoch 101/350\n",
            "410/410 [==============================] - 1s 1ms/step - loss: 0.6051 - val_loss: 0.0878\n",
            "Epoch 102/350\n",
            "410/410 [==============================] - 1s 1ms/step - loss: 0.5939 - val_loss: 0.1026\n",
            "Epoch 103/350\n",
            "410/410 [==============================] - 1s 1ms/step - loss: 0.6118 - val_loss: 0.0987\n",
            "Epoch 104/350\n",
            "410/410 [==============================] - 1s 1ms/step - loss: 0.5771 - val_loss: 0.0607\n",
            "Epoch 105/350\n",
            "410/410 [==============================] - 1s 1ms/step - loss: 0.5893 - val_loss: 0.0236\n",
            "Epoch 106/350\n",
            "410/410 [==============================] - 1s 1ms/step - loss: 0.5813 - val_loss: 0.0340\n",
            "Epoch 107/350\n",
            "410/410 [==============================] - 1s 1ms/step - loss: 0.5871 - val_loss: 0.0572\n",
            "Epoch 108/350\n",
            "410/410 [==============================] - 1s 1ms/step - loss: 0.5370 - val_loss: 0.0926\n",
            "Epoch 109/350\n",
            "410/410 [==============================] - 1s 1ms/step - loss: 0.5304 - val_loss: 0.1092\n",
            "Epoch 110/350\n",
            "410/410 [==============================] - 1s 1ms/step - loss: 0.5512 - val_loss: 0.1066\n",
            "Epoch 111/350\n",
            "410/410 [==============================] - 1s 1ms/step - loss: 0.5564 - val_loss: 0.0509\n",
            "Epoch 112/350\n",
            "410/410 [==============================] - 1s 1ms/step - loss: 0.5340 - val_loss: 0.0387\n",
            "Epoch 113/350\n",
            "410/410 [==============================] - 1s 1ms/step - loss: 0.5677 - val_loss: 0.0232\n",
            "Epoch 114/350\n",
            "410/410 [==============================] - 1s 1ms/step - loss: 0.5438 - val_loss: 0.0130\n",
            "Epoch 115/350\n",
            "410/410 [==============================] - 1s 1ms/step - loss: 0.5213 - val_loss: 0.0263\n",
            "Epoch 116/350\n",
            "410/410 [==============================] - 1s 1ms/step - loss: 0.5126 - val_loss: 0.0107\n",
            "Epoch 117/350\n",
            "410/410 [==============================] - 1s 1ms/step - loss: 0.5282 - val_loss: 0.0000e+00\n",
            "Epoch 118/350\n",
            "410/410 [==============================] - 1s 1ms/step - loss: 0.4781 - val_loss: 0.0000e+00\n",
            "Epoch 119/350\n",
            "410/410 [==============================] - 1s 1ms/step - loss: 0.4927 - val_loss: 0.0000e+00\n",
            "Epoch 120/350\n",
            "410/410 [==============================] - 1s 1ms/step - loss: 0.5223 - val_loss: 0.0000e+00\n",
            "Epoch 121/350\n",
            "410/410 [==============================] - 1s 1ms/step - loss: 0.4857 - val_loss: 0.0091\n",
            "Epoch 122/350\n",
            "410/410 [==============================] - 1s 1ms/step - loss: 0.4749 - val_loss: 0.0030\n",
            "Epoch 123/350\n",
            "410/410 [==============================] - 1s 1ms/step - loss: 0.5068 - val_loss: 0.0000e+00\n",
            "Epoch 124/350\n",
            "410/410 [==============================] - 1s 1ms/step - loss: 0.4769 - val_loss: 0.0000e+00\n",
            "Epoch 125/350\n",
            "410/410 [==============================] - 1s 1ms/step - loss: 0.4416 - val_loss: 0.0000e+00\n",
            "\n",
            "Epoch 00125: saving model to semiH_trip_MNIST_v13_ep125_BS300.hdf5\n",
            "Epoch 126/350\n",
            "410/410 [==============================] - 1s 1ms/step - loss: 0.5153 - val_loss: 0.0000e+00\n",
            "Epoch 127/350\n",
            "410/410 [==============================] - 1s 1ms/step - loss: 0.4604 - val_loss: 0.0000e+00\n",
            "Epoch 128/350\n",
            "410/410 [==============================] - 1s 1ms/step - loss: 0.4740 - val_loss: 0.0000e+00\n",
            "Epoch 129/350\n",
            "410/410 [==============================] - 1s 1ms/step - loss: 0.4678 - val_loss: 0.0045\n",
            "Epoch 130/350\n",
            "410/410 [==============================] - 1s 1ms/step - loss: 0.4766 - val_loss: 0.0081\n",
            "Epoch 131/350\n",
            "410/410 [==============================] - 1s 1ms/step - loss: 0.4196 - val_loss: 0.0000e+00\n",
            "Epoch 132/350\n",
            "410/410 [==============================] - 1s 1ms/step - loss: 0.4184 - val_loss: 0.0000e+00\n",
            "Epoch 133/350\n",
            "410/410 [==============================] - 1s 1ms/step - loss: 0.4237 - val_loss: 0.0000e+00\n",
            "Epoch 134/350\n",
            "410/410 [==============================] - 1s 1ms/step - loss: 0.4079 - val_loss: 0.0000e+00\n",
            "Epoch 135/350\n",
            "410/410 [==============================] - 1s 1ms/step - loss: 0.4616 - val_loss: 0.0000e+00\n",
            "Epoch 136/350\n",
            "410/410 [==============================] - 1s 1ms/step - loss: 0.4766 - val_loss: 0.0000e+00\n",
            "Epoch 137/350\n",
            "410/410 [==============================] - 1s 1ms/step - loss: 0.3950 - val_loss: 0.0000e+00\n",
            "Epoch 138/350\n",
            "410/410 [==============================] - 1s 1ms/step - loss: 0.4064 - val_loss: 0.0000e+00\n",
            "Epoch 139/350\n",
            "410/410 [==============================] - 1s 1ms/step - loss: 0.4060 - val_loss: 0.0000e+00\n",
            "Epoch 140/350\n",
            "410/410 [==============================] - 1s 1ms/step - loss: 0.4253 - val_loss: 0.0000e+00\n",
            "Epoch 141/350\n",
            "410/410 [==============================] - 1s 1ms/step - loss: 0.3748 - val_loss: 0.0000e+00\n",
            "Epoch 142/350\n",
            "410/410 [==============================] - 1s 1ms/step - loss: 0.4087 - val_loss: 0.0000e+00\n",
            "Epoch 143/350\n",
            "410/410 [==============================] - 1s 1ms/step - loss: 0.4198 - val_loss: 0.0000e+00\n",
            "Epoch 144/350\n",
            "410/410 [==============================] - 1s 1ms/step - loss: 0.3894 - val_loss: 0.0000e+00\n",
            "Epoch 145/350\n",
            "410/410 [==============================] - 1s 1ms/step - loss: 0.3809 - val_loss: 0.0000e+00\n",
            "Epoch 146/350\n",
            "410/410 [==============================] - 1s 1ms/step - loss: 0.4062 - val_loss: 0.0000e+00\n",
            "Epoch 147/350\n",
            "410/410 [==============================] - 1s 1ms/step - loss: 0.3647 - val_loss: 0.0000e+00\n",
            "Epoch 148/350\n",
            "410/410 [==============================] - 1s 1ms/step - loss: 0.3480 - val_loss: 0.0000e+00\n",
            "Epoch 149/350\n",
            "410/410 [==============================] - 1s 1ms/step - loss: 0.3914 - val_loss: 0.0000e+00\n",
            "Epoch 150/350\n",
            "410/410 [==============================] - 1s 1ms/step - loss: 0.3989 - val_loss: 0.0000e+00\n",
            "\n",
            "Epoch 00150: saving model to semiH_trip_MNIST_v13_ep150_BS300.hdf5\n",
            "Epoch 151/350\n",
            "410/410 [==============================] - 1s 1ms/step - loss: 0.3682 - val_loss: 0.0000e+00\n",
            "Epoch 152/350\n",
            "410/410 [==============================] - 1s 1ms/step - loss: 0.3720 - val_loss: 0.0000e+00\n",
            "Epoch 153/350\n",
            "410/410 [==============================] - 1s 1ms/step - loss: 0.3678 - val_loss: 0.0000e+00\n",
            "Epoch 154/350\n",
            "410/410 [==============================] - 1s 1ms/step - loss: 0.3694 - val_loss: 0.0000e+00\n",
            "Epoch 155/350\n",
            "410/410 [==============================] - 1s 1ms/step - loss: 0.3334 - val_loss: 0.0000e+00\n",
            "Epoch 156/350\n",
            "410/410 [==============================] - 1s 1ms/step - loss: 0.3453 - val_loss: 0.0000e+00\n",
            "Epoch 157/350\n",
            "410/410 [==============================] - 1s 1ms/step - loss: 0.3599 - val_loss: 0.0000e+00\n",
            "Epoch 158/350\n",
            "410/410 [==============================] - 1s 1ms/step - loss: 0.3483 - val_loss: 0.0000e+00\n",
            "Epoch 159/350\n",
            "410/410 [==============================] - 1s 1ms/step - loss: 0.3778 - val_loss: 0.0000e+00\n",
            "Epoch 160/350\n",
            "410/410 [==============================] - 1s 1ms/step - loss: 0.3397 - val_loss: 0.0000e+00\n",
            "Epoch 161/350\n",
            "410/410 [==============================] - 1s 1ms/step - loss: 0.3166 - val_loss: 0.0000e+00\n",
            "Epoch 162/350\n",
            "410/410 [==============================] - 1s 1ms/step - loss: 0.3172 - val_loss: 0.0000e+00\n",
            "Epoch 163/350\n",
            "410/410 [==============================] - 1s 1ms/step - loss: 0.3328 - val_loss: 0.0000e+00\n",
            "Epoch 164/350\n",
            "410/410 [==============================] - 1s 1ms/step - loss: 0.3309 - val_loss: 0.0000e+00\n",
            "Epoch 165/350\n",
            "410/410 [==============================] - 1s 1ms/step - loss: 0.2788 - val_loss: 0.0000e+00\n",
            "Epoch 166/350\n",
            "410/410 [==============================] - 1s 1ms/step - loss: 0.2804 - val_loss: 0.0000e+00\n",
            "Epoch 167/350\n",
            "410/410 [==============================] - 1s 1ms/step - loss: 0.3261 - val_loss: 0.0000e+00\n",
            "Epoch 168/350\n",
            "410/410 [==============================] - 1s 1ms/step - loss: 0.2956 - val_loss: 0.0000e+00\n",
            "Epoch 169/350\n",
            "410/410 [==============================] - 1s 1ms/step - loss: 0.2800 - val_loss: 0.0000e+00\n",
            "Epoch 170/350\n",
            "410/410 [==============================] - 1s 1ms/step - loss: 0.3279 - val_loss: 0.0000e+00\n",
            "Epoch 171/350\n",
            "410/410 [==============================] - 1s 1ms/step - loss: 0.2777 - val_loss: 0.0000e+00\n",
            "Epoch 172/350\n",
            "410/410 [==============================] - 1s 1ms/step - loss: 0.2921 - val_loss: 0.0000e+00\n",
            "Epoch 173/350\n",
            "410/410 [==============================] - 1s 1ms/step - loss: 0.2724 - val_loss: 0.0000e+00\n",
            "Epoch 174/350\n",
            "410/410 [==============================] - 1s 1ms/step - loss: 0.2620 - val_loss: 0.0000e+00\n",
            "Epoch 175/350\n",
            "410/410 [==============================] - 1s 1ms/step - loss: 0.2652 - val_loss: 0.0000e+00\n",
            "\n",
            "Epoch 00175: saving model to semiH_trip_MNIST_v13_ep175_BS300.hdf5\n",
            "Epoch 176/350\n",
            "410/410 [==============================] - 1s 1ms/step - loss: 0.3087 - val_loss: 0.0000e+00\n",
            "Epoch 177/350\n",
            "410/410 [==============================] - 1s 1ms/step - loss: 0.2799 - val_loss: 0.0000e+00\n",
            "Epoch 178/350\n",
            "410/410 [==============================] - 1s 1ms/step - loss: 0.2596 - val_loss: 0.0000e+00\n",
            "Epoch 179/350\n",
            "410/410 [==============================] - 1s 1ms/step - loss: 0.2857 - val_loss: 0.0000e+00\n",
            "Epoch 180/350\n",
            "410/410 [==============================] - 1s 1ms/step - loss: 0.2549 - val_loss: 0.0000e+00\n",
            "Epoch 181/350\n",
            "410/410 [==============================] - 1s 1ms/step - loss: 0.2879 - val_loss: 0.0000e+00\n",
            "Epoch 182/350\n",
            "410/410 [==============================] - 1s 1ms/step - loss: 0.3110 - val_loss: 0.0000e+00\n",
            "Epoch 183/350\n",
            "410/410 [==============================] - 1s 1ms/step - loss: 0.2675 - val_loss: 0.0000e+00\n",
            "Epoch 184/350\n",
            "410/410 [==============================] - 1s 1ms/step - loss: 0.2606 - val_loss: 0.0000e+00\n",
            "Epoch 185/350\n",
            "410/410 [==============================] - 1s 1ms/step - loss: 0.2461 - val_loss: 0.0000e+00\n",
            "Epoch 186/350\n",
            "410/410 [==============================] - 1s 1ms/step - loss: 0.2713 - val_loss: 0.0000e+00\n",
            "Epoch 187/350\n",
            "410/410 [==============================] - 1s 1ms/step - loss: 0.2614 - val_loss: 0.0000e+00\n",
            "Epoch 188/350\n",
            "410/410 [==============================] - 1s 1ms/step - loss: 0.2136 - val_loss: 0.0000e+00\n",
            "Epoch 189/350\n",
            "410/410 [==============================] - 1s 1ms/step - loss: 0.2666 - val_loss: 0.0000e+00\n",
            "Epoch 190/350\n",
            "410/410 [==============================] - 1s 1ms/step - loss: 0.2507 - val_loss: 0.0000e+00\n",
            "Epoch 191/350\n",
            "410/410 [==============================] - 1s 1ms/step - loss: 0.2695 - val_loss: 0.0000e+00\n",
            "Epoch 192/350\n",
            "410/410 [==============================] - 1s 1ms/step - loss: 0.2782 - val_loss: 0.0000e+00\n",
            "Epoch 193/350\n",
            "410/410 [==============================] - 1s 1ms/step - loss: 0.2565 - val_loss: 0.0000e+00\n",
            "Epoch 194/350\n",
            "410/410 [==============================] - 1s 1ms/step - loss: 0.2312 - val_loss: 0.0000e+00\n",
            "Epoch 195/350\n",
            "410/410 [==============================] - 1s 1ms/step - loss: 0.2300 - val_loss: 0.0000e+00\n",
            "Epoch 196/350\n",
            "410/410 [==============================] - 1s 1ms/step - loss: 0.2147 - val_loss: 0.0000e+00\n",
            "Epoch 197/350\n",
            "410/410 [==============================] - 1s 1ms/step - loss: 0.2820 - val_loss: 0.0000e+00\n",
            "Epoch 198/350\n",
            "410/410 [==============================] - 1s 1ms/step - loss: 0.2218 - val_loss: 0.0000e+00\n",
            "Epoch 199/350\n",
            "410/410 [==============================] - 1s 1ms/step - loss: 0.2233 - val_loss: 0.0000e+00\n",
            "Epoch 200/350\n",
            "410/410 [==============================] - 1s 1ms/step - loss: 0.2283 - val_loss: 0.0000e+00\n",
            "\n",
            "Epoch 00200: saving model to semiH_trip_MNIST_v13_ep200_BS300.hdf5\n",
            "Epoch 201/350\n",
            "410/410 [==============================] - 1s 1ms/step - loss: 0.2057 - val_loss: 0.0000e+00\n",
            "Epoch 202/350\n",
            "410/410 [==============================] - 1s 1ms/step - loss: 0.2500 - val_loss: 0.0000e+00\n",
            "Epoch 203/350\n",
            "410/410 [==============================] - 1s 1ms/step - loss: 0.1913 - val_loss: 0.0000e+00\n",
            "Epoch 204/350\n",
            "410/410 [==============================] - 1s 1ms/step - loss: 0.2255 - val_loss: 0.0000e+00\n",
            "Epoch 205/350\n",
            "410/410 [==============================] - 1s 1ms/step - loss: 0.2394 - val_loss: 0.0000e+00\n",
            "Epoch 206/350\n",
            "410/410 [==============================] - 1s 1ms/step - loss: 0.2163 - val_loss: 0.0000e+00\n",
            "Epoch 207/350\n",
            "410/410 [==============================] - 1s 1ms/step - loss: 0.1933 - val_loss: 0.0000e+00\n",
            "Epoch 208/350\n",
            "410/410 [==============================] - 1s 1ms/step - loss: 0.2107 - val_loss: 0.0000e+00\n",
            "Epoch 209/350\n",
            "410/410 [==============================] - 1s 1ms/step - loss: 0.1824 - val_loss: 0.0000e+00\n",
            "Epoch 210/350\n",
            "410/410 [==============================] - 1s 1ms/step - loss: 0.1929 - val_loss: 0.0000e+00\n",
            "Epoch 211/350\n",
            "410/410 [==============================] - 1s 1ms/step - loss: 0.1756 - val_loss: 0.0000e+00\n",
            "Epoch 212/350\n",
            "410/410 [==============================] - 1s 1ms/step - loss: 0.2135 - val_loss: 0.0000e+00\n",
            "Epoch 213/350\n",
            "410/410 [==============================] - 1s 1ms/step - loss: 0.2297 - val_loss: 0.0000e+00\n",
            "Epoch 214/350\n",
            "410/410 [==============================] - 1s 1ms/step - loss: 0.2389 - val_loss: 0.0000e+00\n",
            "Epoch 215/350\n",
            "410/410 [==============================] - 1s 1ms/step - loss: 0.1966 - val_loss: 0.0000e+00\n",
            "Epoch 216/350\n",
            "410/410 [==============================] - 1s 1ms/step - loss: 0.2231 - val_loss: 0.0000e+00\n",
            "Epoch 217/350\n",
            "410/410 [==============================] - 1s 1ms/step - loss: 0.1837 - val_loss: 0.0000e+00\n",
            "Epoch 218/350\n",
            "410/410 [==============================] - 1s 1ms/step - loss: 0.1768 - val_loss: 0.0000e+00\n",
            "Epoch 219/350\n",
            "410/410 [==============================] - 1s 1ms/step - loss: 0.1865 - val_loss: 0.0000e+00\n",
            "Epoch 220/350\n",
            "410/410 [==============================] - 1s 1ms/step - loss: 0.2021 - val_loss: 0.0000e+00\n",
            "Epoch 221/350\n",
            "410/410 [==============================] - 1s 1ms/step - loss: 0.2002 - val_loss: 0.0000e+00\n",
            "Epoch 222/350\n",
            "410/410 [==============================] - 1s 1ms/step - loss: 0.1822 - val_loss: 0.0000e+00\n",
            "Epoch 223/350\n",
            "410/410 [==============================] - 1s 2ms/step - loss: 0.2005 - val_loss: 0.0000e+00\n",
            "Epoch 224/350\n",
            "410/410 [==============================] - 1s 1ms/step - loss: 0.2027 - val_loss: 0.0000e+00\n",
            "Epoch 225/350\n",
            "410/410 [==============================] - 1s 1ms/step - loss: 0.1816 - val_loss: 0.0000e+00\n",
            "\n",
            "Epoch 00225: saving model to semiH_trip_MNIST_v13_ep225_BS300.hdf5\n",
            "Epoch 226/350\n",
            "410/410 [==============================] - 1s 1ms/step - loss: 0.1877 - val_loss: 0.0000e+00\n",
            "Epoch 227/350\n",
            "410/410 [==============================] - 1s 1ms/step - loss: 0.1738 - val_loss: 0.0000e+00\n",
            "Epoch 228/350\n",
            "410/410 [==============================] - 1s 1ms/step - loss: 0.1833 - val_loss: 0.0000e+00\n",
            "Epoch 229/350\n",
            "410/410 [==============================] - 1s 1ms/step - loss: 0.1743 - val_loss: 0.0000e+00\n",
            "Epoch 230/350\n",
            "410/410 [==============================] - 1s 1ms/step - loss: 0.1725 - val_loss: 0.0000e+00\n",
            "Epoch 231/350\n",
            "410/410 [==============================] - 1s 1ms/step - loss: 0.1782 - val_loss: 0.0000e+00\n",
            "Epoch 232/350\n",
            "410/410 [==============================] - 1s 1ms/step - loss: 0.1656 - val_loss: 0.0000e+00\n",
            "Epoch 233/350\n",
            "410/410 [==============================] - 1s 1ms/step - loss: 0.1797 - val_loss: 0.0000e+00\n",
            "Epoch 234/350\n",
            "410/410 [==============================] - 1s 1ms/step - loss: 0.1643 - val_loss: 0.0000e+00\n",
            "Epoch 235/350\n",
            "410/410 [==============================] - 1s 1ms/step - loss: 0.1570 - val_loss: 0.0000e+00\n",
            "Epoch 236/350\n",
            "410/410 [==============================] - 1s 1ms/step - loss: 0.1637 - val_loss: 0.0000e+00\n",
            "Epoch 237/350\n",
            "410/410 [==============================] - 1s 1ms/step - loss: 0.1687 - val_loss: 0.0000e+00\n",
            "Epoch 238/350\n",
            "410/410 [==============================] - 1s 1ms/step - loss: 0.1649 - val_loss: 0.0000e+00\n",
            "Epoch 239/350\n",
            "410/410 [==============================] - 1s 1ms/step - loss: 0.1850 - val_loss: 0.0000e+00\n",
            "Epoch 240/350\n",
            "410/410 [==============================] - 1s 1ms/step - loss: 0.1380 - val_loss: 0.0000e+00\n",
            "Epoch 241/350\n",
            "410/410 [==============================] - 1s 1ms/step - loss: 0.1488 - val_loss: 0.0000e+00\n",
            "Epoch 242/350\n",
            "410/410 [==============================] - 1s 1ms/step - loss: 0.1766 - val_loss: 0.0000e+00\n",
            "Epoch 243/350\n",
            "410/410 [==============================] - 1s 1ms/step - loss: 0.1713 - val_loss: 0.0000e+00\n",
            "Epoch 244/350\n",
            "410/410 [==============================] - 1s 1ms/step - loss: 0.1664 - val_loss: 0.0000e+00\n",
            "Epoch 245/350\n",
            "410/410 [==============================] - 1s 1ms/step - loss: 0.1757 - val_loss: 0.0000e+00\n",
            "Epoch 246/350\n",
            "410/410 [==============================] - 1s 1ms/step - loss: 0.1795 - val_loss: 0.0000e+00\n",
            "Epoch 247/350\n",
            "410/410 [==============================] - 1s 1ms/step - loss: 0.1659 - val_loss: 0.0000e+00\n",
            "Epoch 248/350\n",
            "410/410 [==============================] - 1s 1ms/step - loss: 0.1782 - val_loss: 0.0000e+00\n",
            "Epoch 249/350\n",
            "410/410 [==============================] - 1s 1ms/step - loss: 0.1583 - val_loss: 0.0000e+00\n",
            "Epoch 250/350\n",
            "410/410 [==============================] - 1s 1ms/step - loss: 0.1425 - val_loss: 0.0000e+00\n",
            "\n",
            "Epoch 00250: saving model to semiH_trip_MNIST_v13_ep250_BS300.hdf5\n",
            "Epoch 251/350\n",
            "410/410 [==============================] - 1s 1ms/step - loss: 0.1385 - val_loss: 0.0000e+00\n",
            "Epoch 252/350\n",
            "410/410 [==============================] - 1s 1ms/step - loss: 0.1479 - val_loss: 0.0000e+00\n",
            "Epoch 253/350\n",
            "410/410 [==============================] - 1s 1ms/step - loss: 0.1431 - val_loss: 0.0000e+00\n",
            "Epoch 254/350\n",
            "410/410 [==============================] - 1s 1ms/step - loss: 0.1560 - val_loss: 0.0000e+00\n",
            "Epoch 255/350\n",
            "410/410 [==============================] - 1s 1ms/step - loss: 0.1749 - val_loss: 0.0000e+00\n",
            "Epoch 256/350\n",
            "410/410 [==============================] - 1s 1ms/step - loss: 0.1650 - val_loss: 0.0000e+00\n",
            "Epoch 257/350\n",
            "410/410 [==============================] - 1s 1ms/step - loss: 0.1438 - val_loss: 0.0000e+00\n",
            "Epoch 258/350\n",
            "410/410 [==============================] - 1s 1ms/step - loss: 0.1445 - val_loss: 0.0000e+00\n",
            "Epoch 259/350\n",
            "410/410 [==============================] - 1s 1ms/step - loss: 0.1335 - val_loss: 0.0000e+00\n",
            "Epoch 260/350\n",
            "410/410 [==============================] - 1s 1ms/step - loss: 0.1145 - val_loss: 0.0000e+00\n",
            "Epoch 261/350\n",
            "410/410 [==============================] - 1s 1ms/step - loss: 0.1385 - val_loss: 0.0000e+00\n",
            "Epoch 262/350\n",
            "410/410 [==============================] - 1s 1ms/step - loss: 0.1431 - val_loss: 0.0000e+00\n",
            "Epoch 263/350\n",
            "410/410 [==============================] - 1s 1ms/step - loss: 0.1252 - val_loss: 0.0000e+00\n",
            "Epoch 264/350\n",
            "410/410 [==============================] - 1s 1ms/step - loss: 0.1454 - val_loss: 0.0000e+00\n",
            "Epoch 265/350\n",
            "410/410 [==============================] - 1s 1ms/step - loss: 0.1628 - val_loss: 0.0000e+00\n",
            "Epoch 266/350\n",
            "410/410 [==============================] - 1s 1ms/step - loss: 0.1419 - val_loss: 0.0000e+00\n",
            "Epoch 267/350\n",
            "410/410 [==============================] - 1s 1ms/step - loss: 0.1562 - val_loss: 0.0000e+00\n",
            "Epoch 268/350\n",
            "410/410 [==============================] - 1s 1ms/step - loss: 0.1155 - val_loss: 0.0000e+00\n",
            "Epoch 269/350\n",
            "410/410 [==============================] - 1s 1ms/step - loss: 0.1317 - val_loss: 0.0000e+00\n",
            "Epoch 270/350\n",
            "410/410 [==============================] - 1s 1ms/step - loss: 0.1306 - val_loss: 0.0000e+00\n",
            "Epoch 271/350\n",
            "410/410 [==============================] - 1s 1ms/step - loss: 0.1395 - val_loss: 0.0000e+00\n",
            "Epoch 272/350\n",
            "410/410 [==============================] - 1s 1ms/step - loss: 0.1190 - val_loss: 0.0000e+00\n",
            "Epoch 273/350\n",
            "410/410 [==============================] - 1s 1ms/step - loss: 0.1303 - val_loss: 0.0000e+00\n",
            "Epoch 274/350\n",
            "410/410 [==============================] - 1s 1ms/step - loss: 0.1152 - val_loss: 0.0000e+00\n",
            "Epoch 275/350\n",
            "410/410 [==============================] - 1s 1ms/step - loss: 0.1254 - val_loss: 0.0000e+00\n",
            "\n",
            "Epoch 00275: saving model to semiH_trip_MNIST_v13_ep275_BS300.hdf5\n",
            "Epoch 276/350\n",
            "410/410 [==============================] - 1s 1ms/step - loss: 0.1281 - val_loss: 0.0000e+00\n",
            "Epoch 277/350\n",
            "410/410 [==============================] - 1s 1ms/step - loss: 0.1056 - val_loss: 0.0000e+00\n",
            "Epoch 278/350\n",
            "410/410 [==============================] - 1s 1ms/step - loss: 0.1239 - val_loss: 0.0000e+00\n",
            "Epoch 279/350\n",
            "410/410 [==============================] - 1s 1ms/step - loss: 0.1014 - val_loss: 0.0000e+00\n",
            "Epoch 280/350\n",
            "410/410 [==============================] - 1s 1ms/step - loss: 0.1310 - val_loss: 0.0000e+00\n",
            "Epoch 281/350\n",
            "410/410 [==============================] - 1s 1ms/step - loss: 0.1232 - val_loss: 0.0000e+00\n",
            "Epoch 282/350\n",
            "410/410 [==============================] - 1s 1ms/step - loss: 0.1030 - val_loss: 0.0000e+00\n",
            "Epoch 283/350\n",
            "410/410 [==============================] - 1s 1ms/step - loss: 0.1288 - val_loss: 0.0000e+00\n",
            "Epoch 284/350\n",
            "410/410 [==============================] - 1s 1ms/step - loss: 0.1064 - val_loss: 0.0000e+00\n",
            "Epoch 285/350\n",
            "410/410 [==============================] - 1s 1ms/step - loss: 0.1193 - val_loss: 0.0000e+00\n",
            "Epoch 286/350\n",
            "410/410 [==============================] - 1s 1ms/step - loss: 0.1185 - val_loss: 0.0000e+00\n",
            "Epoch 287/350\n",
            "410/410 [==============================] - 1s 1ms/step - loss: 0.1351 - val_loss: 0.0000e+00\n",
            "Epoch 288/350\n",
            "410/410 [==============================] - 1s 1ms/step - loss: 0.1255 - val_loss: 0.0000e+00\n",
            "Epoch 289/350\n",
            "410/410 [==============================] - 1s 1ms/step - loss: 0.1261 - val_loss: 0.0000e+00\n",
            "Epoch 290/350\n",
            "410/410 [==============================] - 1s 1ms/step - loss: 0.1315 - val_loss: 0.0000e+00\n",
            "Epoch 291/350\n",
            "410/410 [==============================] - 1s 1ms/step - loss: 0.1211 - val_loss: 0.0000e+00\n",
            "Epoch 292/350\n",
            "410/410 [==============================] - 1s 1ms/step - loss: 0.1128 - val_loss: 0.0000e+00\n",
            "Epoch 293/350\n",
            "410/410 [==============================] - 1s 1ms/step - loss: 0.1294 - val_loss: 0.0000e+00\n",
            "Epoch 294/350\n",
            "410/410 [==============================] - 1s 1ms/step - loss: 0.0869 - val_loss: 0.0000e+00\n",
            "Epoch 295/350\n",
            "410/410 [==============================] - 1s 1ms/step - loss: 0.1325 - val_loss: 0.0000e+00\n",
            "Epoch 296/350\n",
            "410/410 [==============================] - 1s 1ms/step - loss: 0.0821 - val_loss: 0.0000e+00\n",
            "Epoch 297/350\n",
            "410/410 [==============================] - 1s 1ms/step - loss: 0.1195 - val_loss: 0.0000e+00\n",
            "Epoch 298/350\n",
            "410/410 [==============================] - 1s 1ms/step - loss: 0.1091 - val_loss: 0.0000e+00\n",
            "Epoch 299/350\n",
            "410/410 [==============================] - 1s 1ms/step - loss: 0.1356 - val_loss: 0.0000e+00\n",
            "Epoch 300/350\n",
            "410/410 [==============================] - 1s 1ms/step - loss: 0.0958 - val_loss: 0.0000e+00\n",
            "\n",
            "Epoch 00300: saving model to semiH_trip_MNIST_v13_ep300_BS300.hdf5\n",
            "Epoch 301/350\n",
            "410/410 [==============================] - 1s 1ms/step - loss: 0.0953 - val_loss: 0.0000e+00\n",
            "Epoch 302/350\n",
            "410/410 [==============================] - 1s 1ms/step - loss: 0.1121 - val_loss: 0.0000e+00\n",
            "Epoch 303/350\n",
            "410/410 [==============================] - 1s 1ms/step - loss: 0.1145 - val_loss: 0.0000e+00\n",
            "Epoch 304/350\n",
            "410/410 [==============================] - 1s 1ms/step - loss: 0.0766 - val_loss: 0.0000e+00\n",
            "Epoch 305/350\n",
            "410/410 [==============================] - 1s 1ms/step - loss: 0.1072 - val_loss: 0.0000e+00\n",
            "Epoch 306/350\n",
            "410/410 [==============================] - 1s 1ms/step - loss: 0.1012 - val_loss: 0.0000e+00\n",
            "Epoch 307/350\n",
            "410/410 [==============================] - 1s 1ms/step - loss: 0.1011 - val_loss: 0.0000e+00\n",
            "Epoch 308/350\n",
            "410/410 [==============================] - 1s 1ms/step - loss: 0.0892 - val_loss: 0.0000e+00\n",
            "Epoch 309/350\n",
            "410/410 [==============================] - 1s 1ms/step - loss: 0.0861 - val_loss: 0.0000e+00\n",
            "Epoch 310/350\n",
            "410/410 [==============================] - 1s 1ms/step - loss: 0.1221 - val_loss: 0.0000e+00\n",
            "Epoch 311/350\n",
            "410/410 [==============================] - 1s 1ms/step - loss: 0.0881 - val_loss: 0.0000e+00\n",
            "Epoch 312/350\n",
            "410/410 [==============================] - 1s 1ms/step - loss: 0.1038 - val_loss: 0.0000e+00\n",
            "Epoch 313/350\n",
            "410/410 [==============================] - 1s 1ms/step - loss: 0.0954 - val_loss: 0.0000e+00\n",
            "Epoch 314/350\n",
            "410/410 [==============================] - 1s 1ms/step - loss: 0.0862 - val_loss: 0.0000e+00\n",
            "Epoch 315/350\n",
            "410/410 [==============================] - 1s 1ms/step - loss: 0.0869 - val_loss: 0.0000e+00\n",
            "Epoch 316/350\n",
            "410/410 [==============================] - 1s 1ms/step - loss: 0.1075 - val_loss: 0.0000e+00\n",
            "Epoch 317/350\n",
            "410/410 [==============================] - 1s 1ms/step - loss: 0.0915 - val_loss: 0.0000e+00\n",
            "Epoch 318/350\n",
            "410/410 [==============================] - 1s 1ms/step - loss: 0.0841 - val_loss: 0.0000e+00\n",
            "Epoch 319/350\n",
            "410/410 [==============================] - 1s 1ms/step - loss: 0.0716 - val_loss: 0.0000e+00\n",
            "Epoch 320/350\n",
            "410/410 [==============================] - 1s 1ms/step - loss: 0.0894 - val_loss: 0.0000e+00\n",
            "Epoch 321/350\n",
            "410/410 [==============================] - 1s 1ms/step - loss: 0.0807 - val_loss: 0.0000e+00\n",
            "Epoch 322/350\n",
            "410/410 [==============================] - 1s 1ms/step - loss: 0.0879 - val_loss: 0.0000e+00\n",
            "Epoch 323/350\n",
            "410/410 [==============================] - 1s 1ms/step - loss: 0.0917 - val_loss: 0.0000e+00\n",
            "Epoch 324/350\n",
            "410/410 [==============================] - 1s 1ms/step - loss: 0.0789 - val_loss: 0.0000e+00\n",
            "Epoch 325/350\n",
            "410/410 [==============================] - 1s 1ms/step - loss: 0.0884 - val_loss: 0.0000e+00\n",
            "\n",
            "Epoch 00325: saving model to semiH_trip_MNIST_v13_ep325_BS300.hdf5\n",
            "Epoch 326/350\n",
            "410/410 [==============================] - 1s 1ms/step - loss: 0.0911 - val_loss: 0.0000e+00\n",
            "Epoch 327/350\n",
            "410/410 [==============================] - 1s 1ms/step - loss: 0.0767 - val_loss: 0.0000e+00\n",
            "Epoch 328/350\n",
            "410/410 [==============================] - 1s 1ms/step - loss: 0.0957 - val_loss: 0.0000e+00\n",
            "Epoch 329/350\n",
            "410/410 [==============================] - 1s 1ms/step - loss: 0.0931 - val_loss: 0.0000e+00\n",
            "Epoch 330/350\n",
            "410/410 [==============================] - 1s 1ms/step - loss: 0.0804 - val_loss: 0.0000e+00\n",
            "Epoch 331/350\n",
            "410/410 [==============================] - 1s 1ms/step - loss: 0.0834 - val_loss: 0.0000e+00\n",
            "Epoch 332/350\n",
            "410/410 [==============================] - 1s 1ms/step - loss: 0.0975 - val_loss: 0.0000e+00\n",
            "Epoch 333/350\n",
            "410/410 [==============================] - 1s 1ms/step - loss: 0.1012 - val_loss: 0.0000e+00\n",
            "Epoch 334/350\n",
            "410/410 [==============================] - 1s 1ms/step - loss: 0.0797 - val_loss: 0.0000e+00\n",
            "Epoch 335/350\n",
            "410/410 [==============================] - 1s 1ms/step - loss: 0.1012 - val_loss: 0.0000e+00\n",
            "Epoch 336/350\n",
            "410/410 [==============================] - 1s 1ms/step - loss: 0.1110 - val_loss: 0.0000e+00\n",
            "Epoch 337/350\n",
            "410/410 [==============================] - 1s 1ms/step - loss: 0.1256 - val_loss: 0.0000e+00\n",
            "Epoch 338/350\n",
            "410/410 [==============================] - 1s 1ms/step - loss: 0.0892 - val_loss: 0.0000e+00\n",
            "Epoch 339/350\n",
            "410/410 [==============================] - 1s 1ms/step - loss: 0.0852 - val_loss: 0.0000e+00\n",
            "Epoch 340/350\n",
            "410/410 [==============================] - 1s 1ms/step - loss: 0.1054 - val_loss: 0.0000e+00\n",
            "Epoch 341/350\n",
            "410/410 [==============================] - 1s 1ms/step - loss: 0.0829 - val_loss: 0.0000e+00\n",
            "Epoch 342/350\n",
            "410/410 [==============================] - 1s 1ms/step - loss: 0.0761 - val_loss: 0.0000e+00\n",
            "Epoch 343/350\n",
            "410/410 [==============================] - 1s 1ms/step - loss: 0.0720 - val_loss: 0.0000e+00\n",
            "Epoch 344/350\n",
            "410/410 [==============================] - 1s 1ms/step - loss: 0.0806 - val_loss: 0.0000e+00\n",
            "Epoch 345/350\n",
            "410/410 [==============================] - 1s 1ms/step - loss: 0.0784 - val_loss: 0.0000e+00\n",
            "Epoch 346/350\n",
            "410/410 [==============================] - 1s 1ms/step - loss: 0.0881 - val_loss: 0.0000e+00\n",
            "Epoch 347/350\n",
            "410/410 [==============================] - 1s 1ms/step - loss: 0.0905 - val_loss: 0.0000e+00\n",
            "Epoch 348/350\n",
            "410/410 [==============================] - 1s 1ms/step - loss: 0.0977 - val_loss: 0.0000e+00\n",
            "Epoch 349/350\n",
            "410/410 [==============================] - 1s 1ms/step - loss: 0.0930 - val_loss: 0.0000e+00\n",
            "Epoch 350/350\n",
            "410/410 [==============================] - 1s 1ms/step - loss: 0.0618 - val_loss: 0.0000e+00\n",
            "\n",
            "Epoch 00350: saving model to semiH_trip_MNIST_v13_ep350_BS300.hdf5\n"
          ],
          "name": "stdout"
        },
        {
          "output_type": "display_data",
          "data": {
            "image/png": "[encoded data removed]",
            "text/plain": [
              "<Figure size 576x576 with 1 Axes>"
            ]
          },
          "metadata": {
            "tags": [],
            "needs_background": "light"
          }
        }
      ]
    },
    {
      "cell_type": "markdown",
      "metadata": {
        "id": "zVfaWGWEP-Dr",
        "colab_type": "text"
      },
      "source": [
        "### Testing if the network learned the right thing...\n",
        "\n",
        "1. Make an empty network\n",
        "2. Loop over the trained model and copy weights\n",
        "3. Obtain predictions (embeddings) for test set\n",
        "4. Obtain PCA decomposition\n",
        "5. Visualize the separation..."
      ]
    },
    {
      "cell_type": "code",
      "metadata": {
        "id": "80isHVBLP-Dt",
        "colab_type": "code",
        "colab": {}
      },
      "source": [
        "    # Test the network\n",
        "\n",
        "    # creating an empty network\n",
        "    testing_embeddings = create_base_network(input_image_shape,\n",
        "                                             embedding_size=embedding_size)\n",
        "    x_embeddings_before_train = testing_embeddings.predict(np.reshape(x_test, (len(x_test), 64, 64, 1)))\n",
        "    # Grabbing the weights from the trained network\n",
        "    for layer_target, layer_source in zip(testing_embeddings.layers, model.layers[2].layers):\n",
        "        weights = layer_source.get_weights()\n",
        "        layer_target.set_weights(weights)\n",
        "        del weights"
      ],
      "execution_count": 297,
      "outputs": []
    },
    {
      "cell_type": "code",
      "metadata": {
        "scrolled": true,
        "id": "sk-uPyqIP-D6",
        "colab_type": "code",
        "colab": {}
      },
      "source": [
        "model = load_model('semiH_trip_MNIST_v13_ep350_BS256.hdf5',\n",
        "                                        custom_objects={'triplet_loss_adapted_from_tf':triplet_loss_adapted_from_tf})"
      ],
      "execution_count": 88,
      "outputs": []
    },
    {
      "cell_type": "code",
      "metadata": {
        "id": "_PB3c37ELoGk",
        "colab_type": "code",
        "colab": {}
      },
      "source": [
        "from sklearn.neighbors import KNeighborsClassifier\n",
        "def fit_nearest_neighbor(img_encoding, img_class):\n",
        "  classifier = KNeighborsClassifier(n_neighbors=5)\n",
        "  classifier.fit(img_encoding, img_class)\n",
        "  return classifier\n"
      ],
      "execution_count": 298,
      "outputs": []
    },
    {
      "cell_type": "code",
      "metadata": {
        "id": "QuE-XVEmKHcQ",
        "colab_type": "code",
        "colab": {}
      },
      "source": [
        "e=testing_embeddings.predict(np.reshape(X, (len(X), 64, 64, 1)))\n",
        "target = np.squeeze(new_target)\n",
        "classifier = fit_nearest_neighbor(e,target)"
      ],
      "execution_count": 299,
      "outputs": []
    },
    {
      "cell_type": "code",
      "metadata": {
        "id": "2Z8O_6Z4PeMl",
        "colab_type": "code",
        "colab": {
          "base_uri": "https://localhost:8080/",
          "height": 286
        },
        "outputId": "25fc8c7a-82d6-4c40-d4a8-9528cfc2274b"
      },
      "source": [
        "plt.imshow(data[14], cmap='gray')\n",
        "target[14]"
      ],
      "execution_count": 224,
      "outputs": [
        {
          "output_type": "execute_result",
          "data": {
            "text/plain": [
              "1"
            ]
          },
          "metadata": {
            "tags": []
          },
          "execution_count": 224
        },
        {
          "output_type": "display_data",
          "data": {
            "image/png": "[encoded data removed]",
            "text/plain": [
              "<Figure size 432x288 with 1 Axes>"
            ]
          },
          "metadata": {
            "tags": [],
            "needs_background": "light"
          }
        }
      ]
    },
    {
      "cell_type": "code",
      "metadata": {
        "id": "PPx7__7JMhcF",
        "colab_type": "code",
        "colab": {
          "base_uri": "https://localhost:8080/",
          "height": 34
        },
        "outputId": "bf65e0f5-2a68-4535-b650-7af5ddd92efb"
      },
      "source": [
        "p=testing_embeddings.predict(np.reshape(img,(1,64, 64, 1)))\n",
        "\n",
        "k = classifier.predict(p)\n",
        "print(k)\n"
      ],
      "execution_count": 302,
      "outputs": [
        {
          "output_type": "stream",
          "text": [
            "[41]\n"
          ],
          "name": "stdout"
        }
      ]
    },
    {
      "cell_type": "code",
      "metadata": {
        "id": "dgnGdgYCSwcz",
        "colab_type": "code",
        "colab": {
          "base_uri": "https://localhost:8080/",
          "height": 34
        },
        "outputId": "86501b56-6466-4b8c-b4b8-5083e91aab2a"
      },
      "source": [
        ""
      ],
      "execution_count": 273,
      "outputs": [
        {
          "output_type": "execute_result",
          "data": {
            "text/plain": [
              "2"
            ]
          },
          "metadata": {
            "tags": []
          },
          "execution_count": 273
        }
      ]
    },
    {
      "cell_type": "code",
      "metadata": {
        "id": "n_x1Owgre6rp",
        "colab_type": "code",
        "colab": {
          "base_uri": "https://localhost:8080/",
          "height": 243
        },
        "outputId": "e651dc25-bb57-4116-f8e3-d18eb586d805"
      },
      "source": [
        ""
      ],
      "execution_count": 147,
      "outputs": [
        {
          "output_type": "execute_result",
          "data": {
            "text/plain": [
              "array([[[0.8235294 , 0.8352941 , 0.81960785, ..., 0.84705883,\n",
              "         0.8235294 , 0.827451  ],\n",
              "        [0.83137256, 0.84705883, 0.8235294 , ..., 0.8745098 ,\n",
              "         0.85882354, 0.8509804 ],\n",
              "        [0.8235294 , 0.8156863 , 0.83137256, ..., 0.8235294 ,\n",
              "         0.8352941 , 0.85490197],\n",
              "        ...,\n",
              "        [0.53333336, 0.53333336, 0.5176471 , ..., 0.34901962,\n",
              "         0.31764707, 0.34509805],\n",
              "        [0.5058824 , 0.5294118 , 0.54509807, ..., 0.30980393,\n",
              "         0.2784314 , 0.4117647 ],\n",
              "        [0.5019608 , 0.52156866, 0.5411765 , ..., 0.27450982,\n",
              "         0.27450982, 0.35686275]]], dtype=float32)"
            ]
          },
          "metadata": {
            "tags": []
          },
          "execution_count": 147
        }
      ]
    },
    {
      "cell_type": "code",
      "metadata": {
        "id": "YluF-1jRlPEt",
        "colab_type": "code",
        "colab": {}
      },
      "source": [
        ""
      ],
      "execution_count": 148,
      "outputs": []
    },
    {
      "cell_type": "code",
      "metadata": {
        "id": "7AIl9dRHluTu",
        "colab_type": "code",
        "colab": {
          "base_uri": "https://localhost:8080/",
          "height": 34
        },
        "outputId": "06a69d4b-5cf0-4146-9f0a-616d302f8779"
      },
      "source": [
        ""
      ],
      "execution_count": 138,
      "outputs": [
        {
          "output_type": "execute_result",
          "data": {
            "text/plain": [
              "(401, 64, 64, 1)"
            ]
          },
          "metadata": {
            "tags": []
          },
          "execution_count": 138
        }
      ]
    },
    {
      "cell_type": "code",
      "metadata": {
        "id": "17kGsP56mQIG",
        "colab_type": "code",
        "colab": {}
      },
      "source": [
        ""
      ],
      "execution_count": 150,
      "outputs": []
    },
    {
      "cell_type": "code",
      "metadata": {
        "id": "TZ-BAo5AnTrP",
        "colab_type": "code",
        "colab": {}
      },
      "source": [
        "img = imread('/content/drive/My Drive/Colab Notebooks/viektest.jpg').astype('float32')/255\n",
        "#img=np.reshape(img,(1,64, 64))\n"
      ],
      "execution_count": 301,
      "outputs": []
    },
    {
      "cell_type": "markdown",
      "metadata": {
        "id": "CZqk9F8CP-EI",
        "colab_type": "text"
      },
      "source": [
        "### Network learned how to separate the images based on their class!"
      ]
    }
  ]
}